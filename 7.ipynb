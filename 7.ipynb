{
 "cells": [
  {
   "cell_type": "code",
   "execution_count": null,
   "metadata": {},
   "outputs": [],
   "source": [
    "import numpy as np\n",
    "from urllib.request import urlopen\n",
    "import urllib\n",
    "import matplotlib.pyplot as plt\n",
    "import seaborn as sns\n",
    "import sklearn as skl\n",
    "import pandas as pd\n",
    "Cleveland_data_url = \"http://archive.ics.uci.edu/ml/machine-learning-databases/heartdisease/processed.hungarian.data\"\n",
    "np.set_printoptions(threshold=99)\n",
    "names=['age','sex','cp','trestbps','chol','fbs','restecg','thalach','exang','oldpeak','slope','ca',\n",
    "'thal','heartdisease']\n",
    "hd = pd.read_csv(urlopen(Cleveland_data_url),names=names)\n",
    "hd.head()\n",
    "del hd['ca']\n",
    "del hd['slope']\n",
    "del hd['thal']\n",
    "del hd['oldpeak']\n",
    "hd=hd.replace('?',np.nan)\n",
    "hd.dtypes\n",
    "hd.columns\n",
    "from pgmpy.models import BayesianModel\n",
    "from pgmpy.estimators import MaximumLikelihoodEstimator,BayesianEstimator\n",
    "model = BayesianModel([('age','trestbps'),('age','fbs'),('sex','trestbps'),('sex','trestbps'),\n",
    "('exang','trestbps'),('trestbps','heartdisease'),('fbs','heartdisease'),('heartdisease','restecg'),\n",
    "('heartdisease','thalach'),('heartdisease','chol')])\n",
    "model.fit(hd,estimator=MaximumLikelihoodEstimator)\n",
    "print(model.get_cpds('age'))\n",
    "print(model.get_cpds('chol'))\n",
    "print(model.get_cpds('sex')\n",
    "model.get_independencies()\n",
    "from pgmpy.inference import VariableElimination\n",
    "hd_in = VariableElimination(model)\n",
    "q = hd_in.query(variables=['heartdisease'],evidence={'age':28})\n",
    "print(q['heartdisease'])\n",
    "q = hd_in.query(variables=['heartdisease'],evidence={'chol':100})\n",
    "print(q['heartdisease']) "
   ]
  }
 ],
 "metadata": {
  "kernelspec": {
   "display_name": "Python 3",
   "language": "python",
   "name": "python3"
  },
  "language_info": {
   "codemirror_mode": {
    "name": "ipython",
    "version": 3
   },
   "file_extension": ".py",
   "mimetype": "text/x-python",
   "name": "python",
   "nbconvert_exporter": "python",
   "pygments_lexer": "ipython3",
   "version": "3.6.4"
  }
 },
 "nbformat": 4,
 "nbformat_minor": 2
}
